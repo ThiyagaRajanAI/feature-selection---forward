{
 "cells": [
  {
   "cell_type": "code",
   "execution_count": 11,
   "id": "2e03265b",
   "metadata": {},
   "outputs": [],
   "source": [
    "import pandas as pd\n",
    "from sklearn.model_selection import train_test_split \n",
    "import time\n",
    "import numpy as np\n",
    "from sklearn.preprocessing import StandardScaler\n",
    "from sklearn.feature_selection import SelectKBest,f_regression \n",
    "from sklearn.feature_selection import chi2\n",
    "from sklearn.feature_selection import RFE\n",
    "from sklearn.linear_model import LogisticRegression\n",
    "import pickle\n",
    "import matplotlib.pyplot as plt"
   ]
  },
  {
   "cell_type": "markdown",
   "id": "de602752",
   "metadata": {},
   "source": [
    "#The issue you're facing is due to the chi2 feature selection method expecting categorical target variables, but in your case, dep_Y seems to be a continuous variable. To address this, you might want to consider using a different feature selection method for regression tasks.\n",
    "\n",
    "#Replace this line:\n",
    "#python\n",
    "#test = SelectKBest(score_func=chi2, k=n)\n",
    "\n",
    "\n",
    "#With a method suitable for regression, such as:\n",
    "#python\n",
    "#test = SelectKBest(score_func=f_regression, k=n)"
   ]
  },
  {
   "cell_type": "code",
   "execution_count": 2,
   "id": "9ee60080",
   "metadata": {},
   "outputs": [],
   "source": [
    "def selectkbest(indep_X,dep_Y,n):\n",
    "        test = SelectKBest(score_func=f_regression , k=n)\n",
    "        fit1= test.fit(indep_X,dep_Y)\n",
    "        # summarize scores       \n",
    "        selectk_features = fit1.transform(indep_X)\n",
    "        return selectk_features\n",
    "    \n",
    "def split_scalar(indep_X,dep_Y):\n",
    "        X_train, X_test, y_train, y_test = train_test_split(indep_X, dep_Y, test_size = 0.25, random_state = 0)\n",
    "        sc = StandardScaler()\n",
    "        X_train = sc.fit_transform(X_train)\n",
    "        X_test = sc.transform(X_test)    \n",
    "        return X_train, X_test, y_train, y_test\n",
    "    \n",
    "def r2_prediction(regressor,X_test,y_test):\n",
    "        y_pred = regressor.predict(X_test)\n",
    "        from sklearn.metrics import r2_score\n",
    "        r2=r2_score(y_test,y_pred)\n",
    "        return r2\n",
    "\n",
    "def Linear(X_train,y_train,X_test):       \n",
    "        \n",
    "        from sklearn.linear_model import LinearRegression\n",
    "        regressor = LinearRegression()\n",
    "        regressor.fit(X_train, y_train)\n",
    "        r2=r2_prediction(regressor,X_test,y_test)\n",
    "        return  r2   \n",
    "    \n",
    "def svm_linear(X_train,y_train,X_test):\n",
    "                \n",
    "        from sklearn.svm import SVR\n",
    "        regressor = SVR(kernel = 'linear')\n",
    "        regressor.fit(X_train, y_train)\n",
    "        r2=r2_prediction(regressor,X_test,y_test)\n",
    "        return  r2  \n",
    "    \n",
    "def svm_NL(X_train,y_train,X_test):\n",
    "                \n",
    "        from sklearn.svm import SVR\n",
    "        regressor = SVR(kernel = 'rbf')\n",
    "        regressor.fit(X_train, y_train)\n",
    "        r2=r2_prediction(regressor,X_test,y_test)\n",
    "        return  r2  \n",
    "     \n",
    "\n",
    "def Decision(X_train,y_train,X_test):\n",
    "        \n",
    "        from sklearn.tree import DecisionTreeRegressor\n",
    "        regressor = DecisionTreeRegressor(random_state = 0)\n",
    "        regressor.fit(X_train, y_train)\n",
    "        r2=r2_prediction(regressor,X_test,y_test)\n",
    "        return  r2  \n",
    "     \n",
    "\n",
    "def random(X_train,y_train,X_test):       \n",
    "\n",
    "        from sklearn.ensemble import RandomForestRegressor\n",
    "        regressor = RandomForestRegressor(n_estimators = 10, random_state = 0)\n",
    "        regressor.fit(X_train, y_train)\n",
    "        r2=r2_prediction(regressor,X_test,y_test)\n",
    "        return  r2 \n",
    "    \n",
    "    \n",
    "def selectk_regression(acclin,accsvml,accsvmnl,accdes,accrf): \n",
    "    \n",
    "    dataframe=pd.DataFrame(index=['ChiSquare'],columns=['Linear','SVMl','SVMnl','Decision','Random'])\n",
    "\n",
    "    for number,idex in enumerate(dataframe.index):\n",
    "        \n",
    "        dataframe['Linear'][idex]=acclin[number]       \n",
    "        dataframe['SVMl'][idex]=accsvml[number]\n",
    "        dataframe['SVMnl'][idex]=accsvmnl[number]\n",
    "        dataframe['Decision'][idex]=accdes[number]\n",
    "        dataframe['Random'][idex]=accrf[number]\n",
    "    return dataframe"
   ]
  },
  {
   "cell_type": "code",
   "execution_count": 4,
   "id": "95fddb76",
   "metadata": {},
   "outputs": [],
   "source": [
    "dataset1=pd.read_csv(\"prep.csv\",index_col=None)\n",
    "\n",
    "df2=dataset1\n",
    "\n",
    "df2 = pd.get_dummies(df2, drop_first=True)\n",
    "\n",
    "indep_X=df2.drop('classification_yes', axis=1)\n",
    "dep_Y=df2['classification_yes']"
   ]
  },
  {
   "cell_type": "code",
   "execution_count": 5,
   "id": "c45f1471",
   "metadata": {},
   "outputs": [
    {
     "data": {
      "text/plain": [
       "0      1\n",
       "1      1\n",
       "2      1\n",
       "3      1\n",
       "4      1\n",
       "      ..\n",
       "394    1\n",
       "395    1\n",
       "396    1\n",
       "397    1\n",
       "398    0\n",
       "Name: classification_yes, Length: 399, dtype: uint8"
      ]
     },
     "execution_count": 5,
     "metadata": {},
     "output_type": "execute_result"
    }
   ],
   "source": [
    "dep_Y"
   ]
  },
  {
   "cell_type": "code",
   "execution_count": 6,
   "id": "ac25b0ab",
   "metadata": {},
   "outputs": [],
   "source": [
    "kbest=selectkbest(indep_X,dep_Y,10)      \n",
    "\n",
    "acclin=[]\n",
    "accsvml=[]\n",
    "accsvmnl=[]\n",
    "accdes=[]\n",
    "accrf=[]"
   ]
  },
  {
   "cell_type": "code",
   "execution_count": 7,
   "id": "7f8618b7",
   "metadata": {},
   "outputs": [],
   "source": [
    "X_train, X_test, y_train, y_test=split_scalar(kbest,dep_Y)  \n",
    " \n",
    "r2_lin=Linear(X_train,y_train,X_test)\n",
    "acclin.append(r2_lin)\n",
    "    \n",
    "r2_sl=svm_linear(X_train,y_train,X_test)    \n",
    "accsvml.append(r2_sl)\n",
    "    \n",
    "r2_NL=svm_NL(X_train,y_train,X_test)\n",
    "accsvmnl.append(r2_NL)\n",
    "    \n",
    "r2_d=Decision(X_train,y_train,X_test)\n",
    "accdes.append(r2_d)\n",
    "    \n",
    "r2_r=random(X_train,y_train,X_test)\n",
    "accrf.append(r2_r)\n",
    "      \n",
    "result=selectk_regression(acclin,accsvml,accsvmnl,accdes,accrf)"
   ]
  },
  {
   "cell_type": "code",
   "execution_count": 8,
   "id": "3e417dca",
   "metadata": {},
   "outputs": [
    {
     "data": {
      "text/html": [
       "<div>\n",
       "<style scoped>\n",
       "    .dataframe tbody tr th:only-of-type {\n",
       "        vertical-align: middle;\n",
       "    }\n",
       "\n",
       "    .dataframe tbody tr th {\n",
       "        vertical-align: top;\n",
       "    }\n",
       "\n",
       "    .dataframe thead th {\n",
       "        text-align: right;\n",
       "    }\n",
       "</style>\n",
       "<table border=\"1\" class=\"dataframe\">\n",
       "  <thead>\n",
       "    <tr style=\"text-align: right;\">\n",
       "      <th></th>\n",
       "      <th>Linear</th>\n",
       "      <th>SVMl</th>\n",
       "      <th>SVMnl</th>\n",
       "      <th>Decision</th>\n",
       "      <th>Random</th>\n",
       "    </tr>\n",
       "  </thead>\n",
       "  <tbody>\n",
       "    <tr>\n",
       "      <th>ChiSquare</th>\n",
       "      <td>0.663376</td>\n",
       "      <td>0.635842</td>\n",
       "      <td>0.945719</td>\n",
       "      <td>0.782986</td>\n",
       "      <td>0.854601</td>\n",
       "    </tr>\n",
       "  </tbody>\n",
       "</table>\n",
       "</div>"
      ],
      "text/plain": [
       "             Linear      SVMl     SVMnl  Decision    Random\n",
       "ChiSquare  0.663376  0.635842  0.945719  0.782986  0.854601"
      ]
     },
     "execution_count": 8,
     "metadata": {},
     "output_type": "execute_result"
    }
   ],
   "source": [
    "result\n",
    "#1"
   ]
  },
  {
   "cell_type": "code",
   "execution_count": 9,
   "id": "a9012075",
   "metadata": {},
   "outputs": [
    {
     "data": {
      "text/html": [
       "<div>\n",
       "<style scoped>\n",
       "    .dataframe tbody tr th:only-of-type {\n",
       "        vertical-align: middle;\n",
       "    }\n",
       "\n",
       "    .dataframe tbody tr th {\n",
       "        vertical-align: top;\n",
       "    }\n",
       "\n",
       "    .dataframe thead th {\n",
       "        text-align: right;\n",
       "    }\n",
       "</style>\n",
       "<table border=\"1\" class=\"dataframe\">\n",
       "  <thead>\n",
       "    <tr style=\"text-align: right;\">\n",
       "      <th></th>\n",
       "      <th>Linear</th>\n",
       "      <th>SVMl</th>\n",
       "      <th>SVMnl</th>\n",
       "      <th>Decision</th>\n",
       "      <th>Random</th>\n",
       "    </tr>\n",
       "  </thead>\n",
       "  <tbody>\n",
       "    <tr>\n",
       "      <th>ChiSquare</th>\n",
       "      <td>0.663376</td>\n",
       "      <td>0.635842</td>\n",
       "      <td>0.945719</td>\n",
       "      <td>0.782986</td>\n",
       "      <td>0.854601</td>\n",
       "    </tr>\n",
       "  </tbody>\n",
       "</table>\n",
       "</div>"
      ],
      "text/plain": [
       "             Linear      SVMl     SVMnl  Decision    Random\n",
       "ChiSquare  0.663376  0.635842  0.945719  0.782986  0.854601"
      ]
     },
     "execution_count": 9,
     "metadata": {},
     "output_type": "execute_result"
    }
   ],
   "source": [
    "result\n",
    "#2"
   ]
  },
  {
   "cell_type": "code",
   "execution_count": 10,
   "id": "754c936b",
   "metadata": {},
   "outputs": [
    {
     "data": {
      "text/html": [
       "<div>\n",
       "<style scoped>\n",
       "    .dataframe tbody tr th:only-of-type {\n",
       "        vertical-align: middle;\n",
       "    }\n",
       "\n",
       "    .dataframe tbody tr th {\n",
       "        vertical-align: top;\n",
       "    }\n",
       "\n",
       "    .dataframe thead th {\n",
       "        text-align: right;\n",
       "    }\n",
       "</style>\n",
       "<table border=\"1\" class=\"dataframe\">\n",
       "  <thead>\n",
       "    <tr style=\"text-align: right;\">\n",
       "      <th></th>\n",
       "      <th>Linear</th>\n",
       "      <th>SVMl</th>\n",
       "      <th>SVMnl</th>\n",
       "      <th>Decision</th>\n",
       "      <th>Random</th>\n",
       "    </tr>\n",
       "  </thead>\n",
       "  <tbody>\n",
       "    <tr>\n",
       "      <th>ChiSquare</th>\n",
       "      <td>0.663376</td>\n",
       "      <td>0.635842</td>\n",
       "      <td>0.945719</td>\n",
       "      <td>0.782986</td>\n",
       "      <td>0.854601</td>\n",
       "    </tr>\n",
       "  </tbody>\n",
       "</table>\n",
       "</div>"
      ],
      "text/plain": [
       "             Linear      SVMl     SVMnl  Decision    Random\n",
       "ChiSquare  0.663376  0.635842  0.945719  0.782986  0.854601"
      ]
     },
     "execution_count": 10,
     "metadata": {},
     "output_type": "execute_result"
    }
   ],
   "source": [
    "result\n",
    "#3"
   ]
  },
  {
   "cell_type": "code",
   "execution_count": null,
   "id": "022c4a1b",
   "metadata": {},
   "outputs": [],
   "source": [
    "result\n",
    "#4"
   ]
  },
  {
   "cell_type": "code",
   "execution_count": null,
   "id": "21de7d08",
   "metadata": {},
   "outputs": [],
   "source": [
    "result\n",
    "#5"
   ]
  },
  {
   "cell_type": "code",
   "execution_count": null,
   "id": "8c08abda",
   "metadata": {},
   "outputs": [],
   "source": [
    "result\n",
    "#6"
   ]
  },
  {
   "cell_type": "code",
   "execution_count": null,
   "id": "e361363d",
   "metadata": {},
   "outputs": [],
   "source": [
    "result\n",
    "#7"
   ]
  },
  {
   "cell_type": "code",
   "execution_count": null,
   "id": "368e949a",
   "metadata": {},
   "outputs": [],
   "source": [
    "result\n",
    "#8"
   ]
  },
  {
   "cell_type": "code",
   "execution_count": null,
   "id": "d96565f0",
   "metadata": {},
   "outputs": [],
   "source": [
    "result\n",
    "#9"
   ]
  },
  {
   "cell_type": "code",
   "execution_count": null,
   "id": "9b281fd3",
   "metadata": {},
   "outputs": [],
   "source": [
    "result\n",
    "#10"
   ]
  },
  {
   "cell_type": "code",
   "execution_count": null,
   "id": "34404549",
   "metadata": {},
   "outputs": [],
   "source": []
  }
 ],
 "metadata": {
  "kernelspec": {
   "display_name": "Python 3 (ipykernel)",
   "language": "python",
   "name": "python3"
  },
  "language_info": {
   "codemirror_mode": {
    "name": "ipython",
    "version": 3
   },
   "file_extension": ".py",
   "mimetype": "text/x-python",
   "name": "python",
   "nbconvert_exporter": "python",
   "pygments_lexer": "ipython3",
   "version": "3.7.6"
  }
 },
 "nbformat": 4,
 "nbformat_minor": 5
}
